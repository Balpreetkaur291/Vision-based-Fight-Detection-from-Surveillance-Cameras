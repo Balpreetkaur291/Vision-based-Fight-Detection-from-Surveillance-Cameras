{
  "cells": [
    {
      "cell_type": "code",
      "execution_count": null,
      "metadata": {
        "id": "G6LWoBlj_VRB"
      },
      "outputs": [],
      "source": [
        "import tensorflow as tf\n",
        "import numpy as np\n",
        "from skimage.io import imread\n",
        "from skimage.transform import resize\n",
        "import cv2\n",
        "import os\n",
        "from PIL import Image\n",
        "from io import BytesIO\n",
        "import time"
      ]
    },
    {
      "cell_type": "code",
      "execution_count": null,
      "metadata": {
        "colab": {
          "base_uri": "https://localhost:8080/"
        },
        "id": "bFZbEQvWFZXD",
        "outputId": "48243a38-fcfa-49f7-cf2f-1899573bc13b"
      },
      "outputs": [
        {
          "output_type": "stream",
          "name": "stdout",
          "text": [
            "[name: \"/device:CPU:0\"\n",
            "device_type: \"CPU\"\n",
            "memory_limit: 268435456\n",
            "locality {\n",
            "}\n",
            "incarnation: 11129153428305754079\n",
            "xla_global_id: -1\n",
            ", name: \"/device:GPU:0\"\n",
            "device_type: \"GPU\"\n",
            "memory_limit: 14619377664\n",
            "locality {\n",
            "  bus_id: 1\n",
            "  links {\n",
            "  }\n",
            "}\n",
            "incarnation: 8918741222912546032\n",
            "physical_device_desc: \"device: 0, name: Tesla T4, pci bus id: 0000:00:04.0, compute capability: 7.5\"\n",
            "xla_global_id: 416903419\n",
            "]\n"
          ]
        }
      ],
      "source": [
        "from tensorflow.python.client import device_lib\n",
        "print(device_lib.list_local_devices())"
      ]
    },
    {
      "cell_type": "code",
      "execution_count": null,
      "metadata": {
        "id": "caDC6U_iFeBm"
      },
      "outputs": [],
      "source": [
        "def mamon_videoFightModel2(tf,wight='/content/mamonbest947oscombo-drive.h5'):\n",
        "    layers = tf.keras.layers\n",
        "    models = tf.keras.models\n",
        "    losses = tf.keras.losses\n",
        "    optimizers = tf.keras.optimizers\n",
        "    metrics = tf.keras.metrics\n",
        "    num_classes = 2\n",
        "    cnn = models.Sequential()\n",
        "\n",
        "\n",
        "\n",
        "\n",
        "    input_shapes=(160,160,3)\n",
        "    np.random.seed(1234)\n",
        "    vg19 = tf.keras.applications.vgg19.VGG19\n",
        "    base_model = vg19(include_top=False,weights='imagenet',input_shape=(160, 160,3))\n",
        "\n",
        "\n",
        "    cnn = models.Sequential()\n",
        "    cnn.add(base_model)\n",
        "    cnn.add(layers.Flatten())\n",
        "    model = models.Sequential()\n",
        "\n",
        "    model.add(layers.TimeDistributed(cnn,  input_shape=(30, 160, 160, 3)))\n",
        "    model.add(layers.LSTM(30 , return_sequences= True))\n",
        "\n",
        "    model.add(layers.TimeDistributed(layers.Dense(90)))\n",
        "    model.add(layers.Dropout(0.1))\n",
        "\n",
        "    model.add(layers.GlobalAveragePooling1D())\n",
        "\n",
        "    model.add(layers.Dense(512, activation='relu'))\n",
        "    model.add(layers.Dropout(0.3))\n",
        "\n",
        "    model.add(layers.Dense(num_classes, activation=\"sigmoid\"))\n",
        "\n",
        "    adam = optimizers.Adam(learning_rate=0.0005, beta_1=0.9, beta_2=0.999, epsilon=1e-08)\n",
        "    model.load_weights(wight)\n",
        "    rms = optimizers.RMSprop()\n",
        "\n",
        "    model.compile(loss='binary_crossentropy', optimizer=adam, metrics=[\"accuracy\"])\n",
        "\n",
        "    return model"
      ]
    },
    {
      "cell_type": "code",
      "execution_count": null,
      "metadata": {
        "colab": {
          "base_uri": "https://localhost:8080/"
        },
        "id": "z-vAKIxN0cjC",
        "outputId": "ba66cd3b-1df6-4839-fb7b-550f474873fb"
      },
      "outputs": [
        {
          "output_type": "stream",
          "name": "stdout",
          "text": [
            "2.18.0\n"
          ]
        }
      ],
      "source": [
        "print(tf. __version__)\n"
      ]
    },
    {
      "cell_type": "code",
      "execution_count": null,
      "metadata": {
        "id": "SpS5o9bfF6Ur"
      },
      "outputs": [],
      "source": [
        "import numpy as np\n",
        "from skimage.transform import resize\n",
        "np.random.seed(1234)\n",
        "model22 = mamon_videoFightModel2(tf)"
      ]
    },
    {
      "cell_type": "code",
      "execution_count": null,
      "metadata": {
        "id": "p55SDQ_o6pBK"
      },
      "outputs": [],
      "source": [
        "def video_mamonreader(cv2, filename):\n",
        "    frames = np.zeros((30, 160, 160, 3), dtype=float)\n",
        "    i = 0\n",
        "    print(frames.shape)\n",
        "    vc = cv2.VideoCapture(filename)\n",
        "    if vc.isOpened():\n",
        "        rval, frame = vc.read()\n",
        "        if rval:\n",
        "            frm = resize(frame, (160, 160, 3))\n",
        "            frm = np.expand_dims(frm, axis=0)\n",
        "            if (np.max(frm) > 1):\n",
        "                frm = frm / 255.0\n",
        "            frames[i][:] = frm\n",
        "            i += 1\n",
        "            print(\"reading video\")\n",
        "            while i < 30:\n",
        "                rval, frame = vc.read()\n",
        "                if rval:\n",
        "                    frm = resize(frame, (160, 160, 3))\n",
        "                    frm = np.expand_dims(frm, axis=0)\n",
        "                    if (np.max(frm) > 1):\n",
        "                        frm = frm / 255.0\n",
        "                    frames[i][:] = frm\n",
        "                    i += 1\n",
        "                else:\n",
        "                    # Handle situation where video frames end unexpectedly\n",
        "                    break\n",
        "\n",
        "            return frames\n",
        "        else:\n",
        "            print(f\"Error reading video file: {filename}\")\n",
        "            return None\n",
        "    else:\n",
        "        print(f\"Error opening video file: {filename}\")\n",
        "        return None"
      ]
    },
    {
      "cell_type": "code",
      "execution_count": null,
      "metadata": {
        "id": "OsHaQ_OtG2OP"
      },
      "outputs": [],
      "source": [
        "def pred_fight(model,video,acuracy=0.9):\n",
        "    pred_test = model.predict(video)\n",
        "    if pred_test[0][1] >=acuracy:\n",
        "        return True , pred_test[0][1]\n",
        "    else:\n",
        "        return False , pred_test[0][1]"
      ]
    },
    {
      "cell_type": "code",
      "execution_count": null,
      "metadata": {
        "id": "6xKRKm8DG6GE"
      },
      "outputs": [],
      "source": [
        "def main_fight(vidoss):\n",
        "    vid = video_mamonreader(cv2,vidoss)\n",
        "    datav = np.zeros((1, 30, 160, 160, 3), dtype=float)\n",
        "    datav[0][:][:] = vid\n",
        "    millis = int(round(time.time() * 1000))\n",
        "    print(millis)\n",
        "    f , precent = pred_fight(model22,datav,acuracy=0.65)\n",
        "    millis2 = int(round(time.time() * 1000))\n",
        "    print(millis2)\n",
        "    res_mamon = {'fight':f , 'precentegeoffight':str(precent)}\n",
        "    res_mamon['processing_time'] =  str(millis2-millis)\n",
        "    return res_mamon"
      ]
    },
    {
      "cell_type": "code",
      "source": [
        "res = main_fight('/content/fi030.mp4')\n",
        "res"
      ],
      "metadata": {
        "colab": {
          "base_uri": "https://localhost:8080/"
        },
        "id": "jr_-vqD5jF3X",
        "outputId": "a00a0208-b6a2-4402-e428-bd6b6b9e331a"
      },
      "execution_count": null,
      "outputs": [
        {
          "output_type": "stream",
          "name": "stdout",
          "text": [
            "(30, 160, 160, 3)\n",
            "reading video\n",
            "1738263054095\n",
            "\u001b[1m1/1\u001b[0m \u001b[32m━━━━━━━━━━━━━━━━━━━━\u001b[0m\u001b[37m\u001b[0m \u001b[1m0s\u001b[0m 334ms/step\n",
            "1738263054473\n"
          ]
        },
        {
          "output_type": "execute_result",
          "data": {
            "text/plain": [
              "{'fight': True, 'precentegeoffight': '0.9915508', 'processing_time': '378'}"
            ]
          },
          "metadata": {},
          "execution_count": 23
        }
      ]
    },
    {
      "cell_type": "code",
      "execution_count": null,
      "metadata": {
        "colab": {
          "base_uri": "https://localhost:8080/"
        },
        "id": "mE0Nfg8tG9Uv",
        "outputId": "030bdebe-ad1e-445a-8beb-654977031f36"
      },
      "outputs": [
        {
          "name": "stdout",
          "output_type": "stream",
          "text": [
            "(30, 160, 160, 3)\n",
            "reading video\n",
            "1730320336098\n",
            "\u001b[1m1/1\u001b[0m \u001b[32m━━━━━━━━━━━━━━━━━━━━\u001b[0m\u001b[37m\u001b[0m \u001b[1m12s\u001b[0m 12s/step\n",
            "1730320348208\n"
          ]
        },
        {
          "data": {
            "text/plain": [
              "{'fight': False, 'precentegeoffight': '0.4744618', 'processing_time': '12110'}"
            ]
          },
          "execution_count": 90,
          "metadata": {},
          "output_type": "execute_result"
        }
      ],
      "source": [
        "res = main_fight('/content/nofi002.mp4')\n",
        "res"
      ]
    },
    {
      "cell_type": "code",
      "execution_count": null,
      "metadata": {
        "colab": {
          "base_uri": "https://localhost:8080/"
        },
        "id": "tGDLBv-xHL1S",
        "outputId": "c12f3d48-f158-452b-f629-18f8a407145f"
      },
      "outputs": [
        {
          "name": "stdout",
          "output_type": "stream",
          "text": [
            "(30, 160, 160, 3)\n",
            "reading video\n",
            "1730320351186\n",
            "\u001b[1m1/1\u001b[0m \u001b[32m━━━━━━━━━━━━━━━━━━━━\u001b[0m\u001b[37m\u001b[0m \u001b[1m10s\u001b[0m 10s/step\n",
            "1730320361448\n"
          ]
        },
        {
          "data": {
            "text/plain": [
              "{'fight': False, 'precentegeoffight': '0.020639', 'processing_time': '10262'}"
            ]
          },
          "execution_count": 91,
          "metadata": {},
          "output_type": "execute_result"
        }
      ],
      "source": [
        "res = main_fight('/content/nofi020.mp4')\n",
        "res"
      ]
    },
    {
      "cell_type": "code",
      "execution_count": null,
      "metadata": {
        "id": "pohBBMwdWKuI"
      },
      "outputs": [],
      "source": []
    }
  ],
  "metadata": {
    "colab": {
      "provenance": [],
      "gpuType": "T4"
    },
    "kernelspec": {
      "display_name": "Python 3",
      "name": "python3"
    },
    "language_info": {
      "name": "python"
    },
    "accelerator": "GPU"
  },
  "nbformat": 4,
  "nbformat_minor": 0
}